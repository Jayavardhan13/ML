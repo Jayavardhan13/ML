{
 "cells": [
  {
   "cell_type": "code",
   "execution_count": 1,
   "id": "24479a41",
   "metadata": {
    "_cell_guid": "b1076dfc-b9ad-4769-8c92-a6c4dae69d19",
    "_uuid": "8f2839f25d086af736a60e9eeb907d3b93b6e0e5",
    "execution": {
     "iopub.execute_input": "2024-07-15T15:06:08.362780Z",
     "iopub.status.busy": "2024-07-15T15:06:08.362417Z",
     "iopub.status.idle": "2024-07-15T15:06:09.175609Z",
     "shell.execute_reply": "2024-07-15T15:06:09.174261Z"
    },
    "papermill": {
     "duration": 0.822451,
     "end_time": "2024-07-15T15:06:09.178525",
     "exception": false,
     "start_time": "2024-07-15T15:06:08.356074",
     "status": "completed"
    },
    "tags": []
   },
   "outputs": [
    {
     "name": "stdout",
     "output_type": "stream",
     "text": [
      "/kaggle/input/study-multiple/Student_Performance.csv\n"
     ]
    }
   ],
   "source": [
    "# This Python 3 environment comes with many helpful analytics libraries installed\n",
    "# It is defined by the kaggle/python Docker image: https://github.com/kaggle/docker-python\n",
    "# For example, here's several helpful packages to load\n",
    "\n",
    "import numpy as np # linear algebra\n",
    "import pandas as pd # data processing, CSV file I/O (e.g. pd.read_csv)\n",
    "\n",
    "# Input data files are available in the read-only \"../input/\" directory\n",
    "# For example, running this (by clicking run or pressing Shift+Enter) will list all files under the input directory\n",
    "\n",
    "import os\n",
    "for dirname, _, filenames in os.walk('/kaggle/input'):\n",
    "    for filename in filenames:\n",
    "        print(os.path.join(dirname, filename))\n",
    "\n",
    "# You can write up to 20GB to the current directory (/kaggle/working/) that gets preserved as output when you create a version using \"Save & Run All\" \n",
    "# You can also write temporary files to /kaggle/temp/, but they won't be saved outside of the current session"
   ]
  },
  {
   "cell_type": "code",
   "execution_count": 2,
   "id": "10f6a6b1",
   "metadata": {
    "execution": {
     "iopub.execute_input": "2024-07-15T15:06:09.189883Z",
     "iopub.status.busy": "2024-07-15T15:06:09.189409Z",
     "iopub.status.idle": "2024-07-15T15:06:10.443305Z",
     "shell.execute_reply": "2024-07-15T15:06:10.442283Z"
    },
    "papermill": {
     "duration": 1.262254,
     "end_time": "2024-07-15T15:06:10.445836",
     "exception": false,
     "start_time": "2024-07-15T15:06:09.183582",
     "status": "completed"
    },
    "tags": []
   },
   "outputs": [],
   "source": [
    "import pandas as pd\n",
    "import numpy as np\n",
    "import seaborn as sns\n",
    "import matplotlib.pyplot as plt"
   ]
  },
  {
   "cell_type": "code",
   "execution_count": 3,
   "id": "18e6757c",
   "metadata": {
    "execution": {
     "iopub.execute_input": "2024-07-15T15:06:10.457299Z",
     "iopub.status.busy": "2024-07-15T15:06:10.456602Z",
     "iopub.status.idle": "2024-07-15T15:06:10.461626Z",
     "shell.execute_reply": "2024-07-15T15:06:10.460717Z"
    },
    "papermill": {
     "duration": 0.012932,
     "end_time": "2024-07-15T15:06:10.463582",
     "exception": false,
     "start_time": "2024-07-15T15:06:10.450650",
     "status": "completed"
    },
    "tags": []
   },
   "outputs": [],
   "source": [
    "x=6*np.random.rand(100,1)-3\n",
    "y=0.5*x**2 + 1.5*x +2+np.random.rand(100,1)"
   ]
  },
  {
   "cell_type": "markdown",
   "id": "8efc1421",
   "metadata": {
    "papermill": {
     "duration": 0.004431,
     "end_time": "2024-07-15T15:06:10.472714",
     "exception": false,
     "start_time": "2024-07-15T15:06:10.468283",
     "status": "completed"
    },
    "tags": []
   },
   "source": [
    "# > **BELOW NORMAL REGRESSION FOLLWED BY    POLYNOMIAL REGRESSION**"
   ]
  },
  {
   "cell_type": "code",
   "execution_count": 4,
   "id": "3f489037",
   "metadata": {
    "execution": {
     "iopub.execute_input": "2024-07-15T15:06:10.483648Z",
     "iopub.status.busy": "2024-07-15T15:06:10.482954Z",
     "iopub.status.idle": "2024-07-15T15:06:10.799990Z",
     "shell.execute_reply": "2024-07-15T15:06:10.798696Z"
    },
    "papermill": {
     "duration": 0.325248,
     "end_time": "2024-07-15T15:06:10.802469",
     "exception": false,
     "start_time": "2024-07-15T15:06:10.477221",
     "status": "completed"
    },
    "tags": []
   },
   "outputs": [],
   "source": [
    "# TRAIN_TEST_SPLIT\n",
    "from sklearn.model_selection import train_test_split\n",
    "x_train,x_test,y_train,y_test=train_test_split(x,y,test_size=0.25,random_state=40)"
   ]
  },
  {
   "cell_type": "code",
   "execution_count": 5,
   "id": "61fa53cd",
   "metadata": {
    "execution": {
     "iopub.execute_input": "2024-07-15T15:06:10.813558Z",
     "iopub.status.busy": "2024-07-15T15:06:10.813082Z",
     "iopub.status.idle": "2024-07-15T15:06:10.918896Z",
     "shell.execute_reply": "2024-07-15T15:06:10.917887Z"
    },
    "papermill": {
     "duration": 0.113753,
     "end_time": "2024-07-15T15:06:10.921140",
     "exception": false,
     "start_time": "2024-07-15T15:06:10.807387",
     "status": "completed"
    },
    "tags": []
   },
   "outputs": [
    {
     "data": {
      "text/html": [
       "<style>#sk-container-id-1 {color: black;background-color: white;}#sk-container-id-1 pre{padding: 0;}#sk-container-id-1 div.sk-toggleable {background-color: white;}#sk-container-id-1 label.sk-toggleable__label {cursor: pointer;display: block;width: 100%;margin-bottom: 0;padding: 0.3em;box-sizing: border-box;text-align: center;}#sk-container-id-1 label.sk-toggleable__label-arrow:before {content: \"▸\";float: left;margin-right: 0.25em;color: #696969;}#sk-container-id-1 label.sk-toggleable__label-arrow:hover:before {color: black;}#sk-container-id-1 div.sk-estimator:hover label.sk-toggleable__label-arrow:before {color: black;}#sk-container-id-1 div.sk-toggleable__content {max-height: 0;max-width: 0;overflow: hidden;text-align: left;background-color: #f0f8ff;}#sk-container-id-1 div.sk-toggleable__content pre {margin: 0.2em;color: black;border-radius: 0.25em;background-color: #f0f8ff;}#sk-container-id-1 input.sk-toggleable__control:checked~div.sk-toggleable__content {max-height: 200px;max-width: 100%;overflow: auto;}#sk-container-id-1 input.sk-toggleable__control:checked~label.sk-toggleable__label-arrow:before {content: \"▾\";}#sk-container-id-1 div.sk-estimator input.sk-toggleable__control:checked~label.sk-toggleable__label {background-color: #d4ebff;}#sk-container-id-1 div.sk-label input.sk-toggleable__control:checked~label.sk-toggleable__label {background-color: #d4ebff;}#sk-container-id-1 input.sk-hidden--visually {border: 0;clip: rect(1px 1px 1px 1px);clip: rect(1px, 1px, 1px, 1px);height: 1px;margin: -1px;overflow: hidden;padding: 0;position: absolute;width: 1px;}#sk-container-id-1 div.sk-estimator {font-family: monospace;background-color: #f0f8ff;border: 1px dotted black;border-radius: 0.25em;box-sizing: border-box;margin-bottom: 0.5em;}#sk-container-id-1 div.sk-estimator:hover {background-color: #d4ebff;}#sk-container-id-1 div.sk-parallel-item::after {content: \"\";width: 100%;border-bottom: 1px solid gray;flex-grow: 1;}#sk-container-id-1 div.sk-label:hover label.sk-toggleable__label {background-color: #d4ebff;}#sk-container-id-1 div.sk-serial::before {content: \"\";position: absolute;border-left: 1px solid gray;box-sizing: border-box;top: 0;bottom: 0;left: 50%;z-index: 0;}#sk-container-id-1 div.sk-serial {display: flex;flex-direction: column;align-items: center;background-color: white;padding-right: 0.2em;padding-left: 0.2em;position: relative;}#sk-container-id-1 div.sk-item {position: relative;z-index: 1;}#sk-container-id-1 div.sk-parallel {display: flex;align-items: stretch;justify-content: center;background-color: white;position: relative;}#sk-container-id-1 div.sk-item::before, #sk-container-id-1 div.sk-parallel-item::before {content: \"\";position: absolute;border-left: 1px solid gray;box-sizing: border-box;top: 0;bottom: 0;left: 50%;z-index: -1;}#sk-container-id-1 div.sk-parallel-item {display: flex;flex-direction: column;z-index: 1;position: relative;background-color: white;}#sk-container-id-1 div.sk-parallel-item:first-child::after {align-self: flex-end;width: 50%;}#sk-container-id-1 div.sk-parallel-item:last-child::after {align-self: flex-start;width: 50%;}#sk-container-id-1 div.sk-parallel-item:only-child::after {width: 0;}#sk-container-id-1 div.sk-dashed-wrapped {border: 1px dashed gray;margin: 0 0.4em 0.5em 0.4em;box-sizing: border-box;padding-bottom: 0.4em;background-color: white;}#sk-container-id-1 div.sk-label label {font-family: monospace;font-weight: bold;display: inline-block;line-height: 1.2em;}#sk-container-id-1 div.sk-label-container {text-align: center;}#sk-container-id-1 div.sk-container {/* jupyter's `normalize.less` sets `[hidden] { display: none; }` but bootstrap.min.css set `[hidden] { display: none !important; }` so we also need the `!important` here to be able to override the default hidden behavior on the sphinx rendered scikit-learn.org. See: https://github.com/scikit-learn/scikit-learn/issues/21755 */display: inline-block !important;position: relative;}#sk-container-id-1 div.sk-text-repr-fallback {display: none;}</style><div id=\"sk-container-id-1\" class=\"sk-top-container\"><div class=\"sk-text-repr-fallback\"><pre>LinearRegression()</pre><b>In a Jupyter environment, please rerun this cell to show the HTML representation or trust the notebook. <br />On GitHub, the HTML representation is unable to render, please try loading this page with nbviewer.org.</b></div><div class=\"sk-container\" hidden><div class=\"sk-item\"><div class=\"sk-estimator sk-toggleable\"><input class=\"sk-toggleable__control sk-hidden--visually\" id=\"sk-estimator-id-1\" type=\"checkbox\" checked><label for=\"sk-estimator-id-1\" class=\"sk-toggleable__label sk-toggleable__label-arrow\">LinearRegression</label><div class=\"sk-toggleable__content\"><pre>LinearRegression()</pre></div></div></div></div></div>"
      ],
      "text/plain": [
       "LinearRegression()"
      ]
     },
     "execution_count": 5,
     "metadata": {},
     "output_type": "execute_result"
    }
   ],
   "source": [
    "from sklearn.linear_model import LinearRegression\n",
    "regression=LinearRegression()\n",
    "regression.fit(x_train,y_train)"
   ]
  },
  {
   "cell_type": "code",
   "execution_count": 6,
   "id": "0c1d6b1c",
   "metadata": {
    "execution": {
     "iopub.execute_input": "2024-07-15T15:06:10.932954Z",
     "iopub.status.busy": "2024-07-15T15:06:10.932096Z",
     "iopub.status.idle": "2024-07-15T15:06:11.213762Z",
     "shell.execute_reply": "2024-07-15T15:06:11.212755Z"
    },
    "papermill": {
     "duration": 0.289781,
     "end_time": "2024-07-15T15:06:11.215899",
     "exception": false,
     "start_time": "2024-07-15T15:06:10.926118",
     "status": "completed"
    },
    "tags": []
   },
   "outputs": [
    {
     "data": {
      "text/plain": [
       "[<matplotlib.lines.Line2D at 0x788af3a556c0>]"
      ]
     },
     "execution_count": 6,
     "metadata": {},
     "output_type": "execute_result"
    },
    {
     "data": {
      "image/png": "[encoded data removed]",
      "text/plain": [
       "<Figure size 640x480 with 1 Axes>"
      ]
     },
     "metadata": {},
     "output_type": "display_data"
    }
   ],
   "source": [
    "plt.scatter(x_train,y_train)\n",
    "plt.plot(x_train,regression.predict(x_train))\n"
   ]
  },
  {
   "cell_type": "markdown",
   "id": "54a3ed16",
   "metadata": {
    "papermill": {
     "duration": 0.005092,
     "end_time": "2024-07-15T15:06:11.226377",
     "exception": false,
     "start_time": "2024-07-15T15:06:11.221285",
     "status": "completed"
    },
    "tags": []
   },
   "source": [
    "# lets find R^2"
   ]
  },
  {
   "cell_type": "code",
   "execution_count": 7,
   "id": "f911bd02",
   "metadata": {
    "execution": {
     "iopub.execute_input": "2024-07-15T15:06:11.239148Z",
     "iopub.status.busy": "2024-07-15T15:06:11.238233Z",
     "iopub.status.idle": "2024-07-15T15:06:11.244726Z",
     "shell.execute_reply": "2024-07-15T15:06:11.243696Z"
    },
    "papermill": {
     "duration": 0.015733,
     "end_time": "2024-07-15T15:06:11.247501",
     "exception": false,
     "start_time": "2024-07-15T15:06:11.231768",
     "status": "completed"
    },
    "tags": []
   },
   "outputs": [
    {
     "name": "stdout",
     "output_type": "stream",
     "text": [
      "0.7643727969857569\n"
     ]
    }
   ],
   "source": [
    "y_pred=regression.predict(x_test)\n",
    "from sklearn.metrics import r2_score\n",
    "score=r2_score(y_test,y_pred)\n",
    "print(score)"
   ]
  },
  {
   "cell_type": "markdown",
   "id": "4592d683",
   "metadata": {
    "papermill": {
     "duration": 0.005296,
     "end_time": "2024-07-15T15:06:11.258657",
     "exception": false,
     "start_time": "2024-07-15T15:06:11.253361",
     "status": "completed"
    },
    "tags": []
   },
   "source": [
    "# we can see that how worse it is.... !!!\n",
    "# so use polynomial regression"
   ]
  },
  {
   "cell_type": "code",
   "execution_count": 8,
   "id": "e28e8f7e",
   "metadata": {
    "execution": {
     "iopub.execute_input": "2024-07-15T15:06:11.271454Z",
     "iopub.status.busy": "2024-07-15T15:06:11.270767Z",
     "iopub.status.idle": "2024-07-15T15:06:11.276780Z",
     "shell.execute_reply": "2024-07-15T15:06:11.275815Z"
    },
    "papermill": {
     "duration": 0.014837,
     "end_time": "2024-07-15T15:06:11.278893",
     "exception": false,
     "start_time": "2024-07-15T15:06:11.264056",
     "status": "completed"
    },
    "tags": []
   },
   "outputs": [],
   "source": [
    "from sklearn.preprocessing import PolynomialFeatures\n",
    "poly=PolynomialFeatures(degree=2,include_bias=True)\n",
    "x_train_poly=poly.fit_transform(x_train)\n",
    "x_test_poly=poly.transform(x_test)"
   ]
  },
  {
   "cell_type": "code",
   "execution_count": 9,
   "id": "b46b71c9",
   "metadata": {
    "execution": {
     "iopub.execute_input": "2024-07-15T15:06:11.291813Z",
     "iopub.status.busy": "2024-07-15T15:06:11.291048Z",
     "iopub.status.idle": "2024-07-15T15:06:11.299544Z",
     "shell.execute_reply": "2024-07-15T15:06:11.298463Z"
    },
    "papermill": {
     "duration": 0.017101,
     "end_time": "2024-07-15T15:06:11.301617",
     "exception": false,
     "start_time": "2024-07-15T15:06:11.284516",
     "status": "completed"
    },
    "tags": []
   },
   "outputs": [
    {
     "data": {
      "text/plain": [
       "array([[ 1.        ,  1.13679227,  1.29229666],\n",
       "       [ 1.        , -1.6298676 ,  2.6564684 ],\n",
       "       [ 1.        ,  2.0615647 ,  4.25004901],\n",
       "       [ 1.        ,  2.98109174,  8.88690798],\n",
       "       [ 1.        ,  0.42651731,  0.18191702],\n",
       "       [ 1.        ,  2.00100377,  4.00401608],\n",
       "       [ 1.        , -1.80124214,  3.24447326],\n",
       "       [ 1.        ,  2.9549428 ,  8.73168694],\n",
       "       [ 1.        , -2.05601063,  4.22717971],\n",
       "       [ 1.        , -1.32067058,  1.74417077],\n",
       "       [ 1.        , -1.52544976,  2.32699697],\n",
       "       [ 1.        , -1.36435368,  1.86146098],\n",
       "       [ 1.        ,  2.97180886,  8.83164792],\n",
       "       [ 1.        , -2.72020164,  7.39949694],\n",
       "       [ 1.        ,  1.50505498,  2.2651905 ],\n",
       "       [ 1.        ,  1.252391  ,  1.56848322],\n",
       "       [ 1.        ,  2.57416111,  6.62630544],\n",
       "       [ 1.        , -1.03886587,  1.0792423 ],\n",
       "       [ 1.        , -1.63978433,  2.68889264],\n",
       "       [ 1.        , -1.43447189,  2.05770959],\n",
       "       [ 1.        , -2.884712  ,  8.32156333],\n",
       "       [ 1.        , -2.91269702,  8.48380394],\n",
       "       [ 1.        , -2.04023888,  4.16257467],\n",
       "       [ 1.        ,  1.41376168,  1.99872208],\n",
       "       [ 1.        ,  1.16052488,  1.346818  ]])"
      ]
     },
     "execution_count": 9,
     "metadata": {},
     "output_type": "execute_result"
    }
   ],
   "source": [
    "x_test_poly"
   ]
  },
  {
   "cell_type": "code",
   "execution_count": 10,
   "id": "4f909e9c",
   "metadata": {
    "execution": {
     "iopub.execute_input": "2024-07-15T15:06:11.314420Z",
     "iopub.status.busy": "2024-07-15T15:06:11.314027Z",
     "iopub.status.idle": "2024-07-15T15:06:11.328975Z",
     "shell.execute_reply": "2024-07-15T15:06:11.327973Z"
    },
    "papermill": {
     "duration": 0.023869,
     "end_time": "2024-07-15T15:06:11.331078",
     "exception": false,
     "start_time": "2024-07-15T15:06:11.307209",
     "status": "completed"
    },
    "tags": []
   },
   "outputs": [
    {
     "data": {
      "text/html": [
       "<style>#sk-container-id-2 {color: black;background-color: white;}#sk-container-id-2 pre{padding: 0;}#sk-container-id-2 div.sk-toggleable {background-color: white;}#sk-container-id-2 label.sk-toggleable__label {cursor: pointer;display: block;width: 100%;margin-bottom: 0;padding: 0.3em;box-sizing: border-box;text-align: center;}#sk-container-id-2 label.sk-toggleable__label-arrow:before {content: \"▸\";float: left;margin-right: 0.25em;color: #696969;}#sk-container-id-2 label.sk-toggleable__label-arrow:hover:before {color: black;}#sk-container-id-2 div.sk-estimator:hover label.sk-toggleable__label-arrow:before {color: black;}#sk-container-id-2 div.sk-toggleable__content {max-height: 0;max-width: 0;overflow: hidden;text-align: left;background-color: #f0f8ff;}#sk-container-id-2 div.sk-toggleable__content pre {margin: 0.2em;color: black;border-radius: 0.25em;background-color: #f0f8ff;}#sk-container-id-2 input.sk-toggleable__control:checked~div.sk-toggleable__content {max-height: 200px;max-width: 100%;overflow: auto;}#sk-container-id-2 input.sk-toggleable__control:checked~label.sk-toggleable__label-arrow:before {content: \"▾\";}#sk-container-id-2 div.sk-estimator input.sk-toggleable__control:checked~label.sk-toggleable__label {background-color: #d4ebff;}#sk-container-id-2 div.sk-label input.sk-toggleable__control:checked~label.sk-toggleable__label {background-color: #d4ebff;}#sk-container-id-2 input.sk-hidden--visually {border: 0;clip: rect(1px 1px 1px 1px);clip: rect(1px, 1px, 1px, 1px);height: 1px;margin: -1px;overflow: hidden;padding: 0;position: absolute;width: 1px;}#sk-container-id-2 div.sk-estimator {font-family: monospace;background-color: #f0f8ff;border: 1px dotted black;border-radius: 0.25em;box-sizing: border-box;margin-bottom: 0.5em;}#sk-container-id-2 div.sk-estimator:hover {background-color: #d4ebff;}#sk-container-id-2 div.sk-parallel-item::after {content: \"\";width: 100%;border-bottom: 1px solid gray;flex-grow: 1;}#sk-container-id-2 div.sk-label:hover label.sk-toggleable__label {background-color: #d4ebff;}#sk-container-id-2 div.sk-serial::before {content: \"\";position: absolute;border-left: 1px solid gray;box-sizing: border-box;top: 0;bottom: 0;left: 50%;z-index: 0;}#sk-container-id-2 div.sk-serial {display: flex;flex-direction: column;align-items: center;background-color: white;padding-right: 0.2em;padding-left: 0.2em;position: relative;}#sk-container-id-2 div.sk-item {position: relative;z-index: 1;}#sk-container-id-2 div.sk-parallel {display: flex;align-items: stretch;justify-content: center;background-color: white;position: relative;}#sk-container-id-2 div.sk-item::before, #sk-container-id-2 div.sk-parallel-item::before {content: \"\";position: absolute;border-left: 1px solid gray;box-sizing: border-box;top: 0;bottom: 0;left: 50%;z-index: -1;}#sk-container-id-2 div.sk-parallel-item {display: flex;flex-direction: column;z-index: 1;position: relative;background-color: white;}#sk-container-id-2 div.sk-parallel-item:first-child::after {align-self: flex-end;width: 50%;}#sk-container-id-2 div.sk-parallel-item:last-child::after {align-self: flex-start;width: 50%;}#sk-container-id-2 div.sk-parallel-item:only-child::after {width: 0;}#sk-container-id-2 div.sk-dashed-wrapped {border: 1px dashed gray;margin: 0 0.4em 0.5em 0.4em;box-sizing: border-box;padding-bottom: 0.4em;background-color: white;}#sk-container-id-2 div.sk-label label {font-family: monospace;font-weight: bold;display: inline-block;line-height: 1.2em;}#sk-container-id-2 div.sk-label-container {text-align: center;}#sk-container-id-2 div.sk-container {/* jupyter's `normalize.less` sets `[hidden] { display: none; }` but bootstrap.min.css set `[hidden] { display: none !important; }` so we also need the `!important` here to be able to override the default hidden behavior on the sphinx rendered scikit-learn.org. See: https://github.com/scikit-learn/scikit-learn/issues/21755 */display: inline-block !important;position: relative;}#sk-container-id-2 div.sk-text-repr-fallback {display: none;}</style><div id=\"sk-container-id-2\" class=\"sk-top-container\"><div class=\"sk-text-repr-fallback\"><pre>LinearRegression()</pre><b>In a Jupyter environment, please rerun this cell to show the HTML representation or trust the notebook. <br />On GitHub, the HTML representation is unable to render, please try loading this page with nbviewer.org.</b></div><div class=\"sk-container\" hidden><div class=\"sk-item\"><div class=\"sk-estimator sk-toggleable\"><input class=\"sk-toggleable__control sk-hidden--visually\" id=\"sk-estimator-id-2\" type=\"checkbox\" checked><label for=\"sk-estimator-id-2\" class=\"sk-toggleable__label sk-toggleable__label-arrow\">LinearRegression</label><div class=\"sk-toggleable__content\"><pre>LinearRegression()</pre></div></div></div></div></div>"
      ],
      "text/plain": [
       "LinearRegression()"
      ]
     },
     "execution_count": 10,
     "metadata": {},
     "output_type": "execute_result"
    }
   ],
   "source": [
    "regression.fit(x_train_poly,y_train)"
   ]
  },
  {
   "cell_type": "code",
   "execution_count": 11,
   "id": "755816d6",
   "metadata": {
    "execution": {
     "iopub.execute_input": "2024-07-15T15:06:11.345139Z",
     "iopub.status.busy": "2024-07-15T15:06:11.344777Z",
     "iopub.status.idle": "2024-07-15T15:06:11.592287Z",
     "shell.execute_reply": "2024-07-15T15:06:11.591363Z"
    },
    "papermill": {
     "duration": 0.257714,
     "end_time": "2024-07-15T15:06:11.594605",
     "exception": false,
     "start_time": "2024-07-15T15:06:11.336891",
     "status": "completed"
    },
    "tags": []
   },
   "outputs": [
    {
     "data": {
      "image/png": "[encoded data removed]",
      "text/plain": [
       "<Figure size 640x480 with 1 Axes>"
      ]
     },
     "metadata": {},
     "output_type": "display_data"
    }
   ],
   "source": [
    "plt.plot(x_train,regression.predict(x_train_poly),\"r.\",label=\"predicted line\")\n",
    "plt.plot(x_train,y_train,\"b.\",label=\"training data point\")\n",
    "plt.plot(x_test,y_test,\"g.\",label=\"testing data point\")\n",
    "plt.legend()\n",
    "plt.show()"
   ]
  },
  {
   "cell_type": "markdown",
   "id": "c5e85247",
   "metadata": {
    "papermill": {
     "duration": 0.00586,
     "end_time": "2024-07-15T15:06:11.606665",
     "exception": false,
     "start_time": "2024-07-15T15:06:11.600805",
     "status": "completed"
    },
    "tags": []
   },
   "source": [
    "**note: above randomly generated ponts need not to be in a ascending order ( to plot a line )**"
   ]
  },
  {
   "cell_type": "markdown",
   "id": "ec28365d",
   "metadata": {
    "papermill": {
     "duration": 0.005771,
     "end_time": "2024-07-15T15:06:11.618515",
     "exception": false,
     "start_time": "2024-07-15T15:06:11.612744",
     "status": "completed"
    },
    "tags": []
   },
   "source": [
    "# now R^2 for polyomial regression"
   ]
  },
  {
   "cell_type": "code",
   "execution_count": 12,
   "id": "c2b1fcd0",
   "metadata": {
    "execution": {
     "iopub.execute_input": "2024-07-15T15:06:11.632468Z",
     "iopub.status.busy": "2024-07-15T15:06:11.632014Z",
     "iopub.status.idle": "2024-07-15T15:06:11.638411Z",
     "shell.execute_reply": "2024-07-15T15:06:11.637363Z"
    },
    "papermill": {
     "duration": 0.016218,
     "end_time": "2024-07-15T15:06:11.640905",
     "exception": false,
     "start_time": "2024-07-15T15:06:11.624687",
     "status": "completed"
    },
    "tags": []
   },
   "outputs": [
    {
     "name": "stdout",
     "output_type": "stream",
     "text": [
      "0.9944614609227433\n"
     ]
    }
   ],
   "source": [
    "from sklearn.metrics import r2_score\n",
    "score=r2_score(y_test,regression.predict(x_test_poly))\n",
    "print(score)"
   ]
  },
  {
   "cell_type": "markdown",
   "id": "c7e695fb",
   "metadata": {
    "papermill": {
     "duration": 0.005849,
     "end_time": "2024-07-15T15:06:11.652915",
     "exception": false,
     "start_time": "2024-07-15T15:06:11.647066",
     "status": "completed"
    },
    "tags": []
   },
   "source": [
    "# note :it is clearly,for polynomial regression R^2 is grater than linear regression R^2"
   ]
  },
  {
   "cell_type": "code",
   "execution_count": null,
   "id": "a0cf2983",
   "metadata": {
    "papermill": {
     "duration": 0.005947,
     "end_time": "2024-07-15T15:06:11.664881",
     "exception": false,
     "start_time": "2024-07-15T15:06:11.658934",
     "status": "completed"
    },
    "tags": []
   },
   "outputs": [],
   "source": []
  },
  {
   "cell_type": "code",
   "execution_count": null,
   "id": "d32f9234",
   "metadata": {
    "papermill": {
     "duration": 0.005807,
     "end_time": "2024-07-15T15:06:11.676764",
     "exception": false,
     "start_time": "2024-07-15T15:06:11.670957",
     "status": "completed"
    },
    "tags": []
   },
   "outputs": [],
   "source": []
  }
 ],
 "metadata": {
  "kaggle": {
   "accelerator": "none",
   "dataSources": [
    {
     "datasetId": 4568147,
     "sourceId": 7801456,
     "sourceType": "datasetVersion"
    }
   ],
   "dockerImageVersionId": 30664,
   "isGpuEnabled": false,
   "isInternetEnabled": false,
   "language": "python",
   "sourceType": "notebook"
  },
  "kernelspec": {
   "display_name": "Python 3",
   "language": "python",
   "name": "python3"
  },
  "language_info": {
   "codemirror_mode": {
    "name": "ipython",
    "version": 3
   },
   "file_extension": ".py",
   "mimetype": "text/x-python",
   "name": "python",
   "nbconvert_exporter": "python",
   "pygments_lexer": "ipython3",
   "version": "3.10.13"
  },
  "papermill": {
   "default_parameters": {},
   "duration": 6.606921,
   "end_time": "2024-07-15T15:06:12.304829",
   "environment_variables": {},
   "exception": null,
   "input_path": "__notebook__.ipynb",
   "output_path": "__notebook__.ipynb",
   "parameters": {},
   "start_time": "2024-07-15T15:06:05.697908",
   "version": "2.5.0"
  }
 },
 "nbformat": 4,
 "nbformat_minor": 5
}
